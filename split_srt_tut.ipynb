{
 "cells": [
  {
   "cell_type": "markdown",
   "id": "7dd939c7-33fd-4c9b-857d-dab8396db8b8",
   "metadata": {},
   "source": [
    "# **Step 1**: **Read** the caption script text"
   ]
  },
  {
   "cell_type": "markdown",
   "id": "3d4bfbe8-6862-4b43-a2c0-4c6ceacc5c34",
   "metadata": {},
   "source": [
    "# In this tutorial, we read the script (variable = 'combine_srt') from a url on Github; therefore we use the requests library\n",
    "### Otherwise, if we read the script locally, we'll need 'Path' in the 'pathlib' library to read the actual .srt file\n",
    "### from pathlib import Path "
   ]
  },
  {
   "cell_type": "code",
   "execution_count": 60,
   "id": "e126d672-293f-49d1-984d-decf5243b8d6",
   "metadata": {},
   "outputs": [],
   "source": [
    "import requests as re"
   ]
  },
  {
   "cell_type": "markdown",
   "id": "3794cd08-0fd8-465d-a5c7-c6e347858dde",
   "metadata": {},
   "source": [
    "# **Assigned** the variable, 'combine_srt', to hold the script url "
   ]
  },
  {
   "cell_type": "code",
   "execution_count": 61,
   "id": "8bed9e27-e72c-4ea1-ada2-0ff1538d0c2e",
   "metadata": {},
   "outputs": [],
   "source": [
    "combine_srt = r'https://raw.githubusercontent.com/clueple/free_resources/master/combine_srt.srt'"
   ]
  },
  {
   "cell_type": "markdown",
   "id": "b5343002-2c4d-4f34-b8fc-dc18c953cd1a",
   "metadata": {},
   "source": [
    "# **Turn** the 'combine_srt' (a url) to a text file and then apply a string function **'splitlines'** to **make it a list**"
   ]
  },
  {
   "cell_type": "code",
   "execution_count": 62,
   "id": "d609cc63-b96b-4ecf-b002-760906d4d51a",
   "metadata": {},
   "outputs": [],
   "source": [
    "combine = re.get(combine_srt).text.splitlines()"
   ]
  },
  {
   "cell_type": "markdown",
   "id": "64921800-85fb-4e4f-857e-ccb16ec6bed4",
   "metadata": {},
   "source": [
    "# Preview the type of the variable, 'combine'"
   ]
  },
  {
   "cell_type": "code",
   "execution_count": 63,
   "id": "21e04de2-94a8-4c4e-be22-e93690cce5de",
   "metadata": {},
   "outputs": [
    {
     "data": {
      "text/plain": [
       "list"
      ]
     },
     "execution_count": 63,
     "metadata": {},
     "output_type": "execute_result"
    }
   ],
   "source": [
    "type(combine)"
   ]
  },
  {
   "cell_type": "markdown",
   "id": "4e0503ec-4a52-448f-b998-d14e960fe8e7",
   "metadata": {},
   "source": [
    "# Preview the variable, 'combine' (only the first 16 lines, 3 lines of caption)"
   ]
  },
  {
   "cell_type": "code",
   "execution_count": 64,
   "id": "bf382f4e-f580-4a93-8786-30aa94fa7f52",
   "metadata": {},
   "outputs": [
    {
     "data": {
      "text/plain": [
       "['1',\n",
       " '00:00:00,000 --> 00:00:01,033',\n",
       " 'In this video ',\n",
       " '喺呢條片',\n",
       " '',\n",
       " '2',\n",
       " '00:00:01,033 --> 00:00:04,500',\n",
       " \"we'll learn the 3 basic steps on building apps \",\n",
       " '我哋會學整app嘅3個基本步驟',\n",
       " '',\n",
       " '3',\n",
       " '00:00:04,500 --> 00:00:05,833',\n",
       " \"We call it 'ADD' \",\n",
       " \"叫做 'ADD'\",\n",
       " '']"
      ]
     },
     "execution_count": 64,
     "metadata": {},
     "output_type": "execute_result"
    }
   ],
   "source": [
    "combine [0:15]"
   ]
  },
  {
   "cell_type": "markdown",
   "id": "027354d6-37b6-4b2e-bee5-964b55d30b38",
   "metadata": {},
   "source": [
    "# Our target is to extract the English text ('top' language) and Cantonese ('bottom' language) respectively"
   ]
  },
  {
   "cell_type": "markdown",
   "id": "aab7bed5-e22b-414b-8d05-aa56a9525bff",
   "metadata": {},
   "source": [
    "# Let's bring up some terms that we're going to use in our code.\n",
    "# Pick the **first line** as an example:\n",
    "\n",
    "'1',\\\n",
    " '00:00:00,000 --> 00:00:01,033',\\\n",
    " 'In this video ',\\\n",
    " '喺呢條片'\n",
    " \n",
    " where '1' is the **index** \\\n",
    " '00:00:00,000 --> 00:00:01,033' is the **timestamp** \\\n",
    " 'In this video ' is the **'top' language** \n",
    " \n",
    " # if we extract the 'top' language, we expect to get: \n",
    " '1',\\\n",
    " '00:00:00,000 --> 00:00:01,033',\\\n",
    " 'In this video ',\n",
    " "
   ]
  },
  {
   "cell_type": "markdown",
   "id": "32b39058-f83a-45ba-8c75-cd30150e7ebf",
   "metadata": {},
   "source": [
    "# **In caption index 1**, \n",
    "'i', the current line \\\n",
    "line 0 is '1', the  **'index'** \\\n",
    "line 1 is '00:00:00,000 --> 00:00:01,033', the **timestamp** \\\n",
    "line 2 is 'In this video', the **content**\n",
    "line 3 is '' , the **space**\n",
    "\n",
    "so for **each caption index** ...\n"
   ]
  },
  {
   "cell_type": "code",
   "execution_count": 65,
   "id": "689346b6-32e4-44ad-9616-a43d12d83fe5",
   "metadata": {},
   "outputs": [
    {
     "name": "stdout",
     "output_type": "stream",
     "text": [
      "1\n",
      "00:00:00,000 --> 00:00:01,033\n",
      "In this video \n",
      "\n",
      "2\n",
      "00:00:01,033 --> 00:00:04,500\n",
      "we'll learn the 3 basic steps on building apps \n",
      "\n",
      "3\n",
      "00:00:04,500 --> 00:00:05,833\n",
      "We call it 'ADD' \n",
      "\n",
      "4\n",
      "00:00:06,133 --> 00:00:08,500\n",
      "appearance, details, and debug \n",
      "\n",
      "5\n",
      "00:00:08,633 --> 00:00:09,200\n",
      "Here \n",
      "\n",
      "6\n",
      "00:00:09,200 --> 00:00:14,033\n",
      "we'll use the simple YouTube Downloader app as an example \n",
      "\n",
      "7\n",
      "00:00:14,166 --> 00:00:16,632\n",
      "First of all, we'll deal with the look \n",
      "\n",
      "8\n",
      "00:00:16,633 --> 00:00:19,300\n",
      "That'll be handled in the layout section \n",
      "\n",
      "9\n",
      "00:00:19,400 --> 00:00:20,532\n",
      "You're very lucky \n",
      "\n",
      "10\n",
      "00:00:20,533 --> 00:00:24,900\n",
      "coz you can download a ready-to-view template on Github \n",
      "\n",
      "11\n",
      "00:00:24,900 --> 00:00:27,300\n",
      "If you wanna dig deep on how to do it \n",
      "\n",
      "12\n",
      "00:00:27,366 --> 00:00:30,432\n",
      "feel free to watch the episode 2 and 3 \n",
      "\n",
      "13\n",
      "00:00:30,866 --> 00:00:33,799\n",
      "Once you've designed the app's layout \n",
      "\n",
      "14\n",
      "00:00:33,800 --> 00:00:35,867\n",
      "you need to fill in the details \n",
      "\n",
      "15\n",
      "00:00:36,033 --> 00:00:38,267\n",
      "In our YouTube Downloader app \n",
      "\n",
      "16\n",
      "00:00:38,266 --> 00:00:40,632\n",
      "there're 2 basic functions \n",
      "\n",
      "17\n",
      "00:00:40,633 --> 00:00:43,433\n",
      "You can refer to episode 3 and 4 \n",
      "\n",
      "18\n",
      "00:00:43,433 --> 00:00:46,533\n",
      "if you wanna know in-and-out how we do this \n",
      "\n",
      "19\n",
      "00:00:46,733 --> 00:00:47,933\n",
      "Throughout the process \n",
      "\n",
      "20\n",
      "00:00:48,000 --> 00:00:50,633\n",
      "you'll for sure encounter errors \n",
      "\n",
      "21\n",
      "00:00:50,766 --> 00:00:53,499\n",
      "That's the tedious part of debugging \n",
      "\n",
      "22\n",
      "00:00:53,666 --> 00:00:55,999\n",
      "That's episode 5 and 6 \n",
      "\n",
      "23\n",
      "00:00:56,233 --> 00:00:56,933\n",
      "Finally \n",
      "\n",
      "24\n",
      "00:00:56,933 --> 00:01:01,100\n",
      "you'll learn how to convert the finished script to an actual app\n",
      "\n"
     ]
    }
   ],
   "source": [
    "# the caption index will row over to the next one every 5 lines (e.g. index 1 to index 2)\n",
    "step = 5 \n",
    "\n",
    "# the beginning position of the 'top' language\n",
    "begin_pos_top = 2\n",
    "\n",
    "# for each line in the list, 'combine'\n",
    "for i in range(0, len(combine)):\n",
    "    if i % step == begin_pos_top:\n",
    "        index_top = i - 2\n",
    "        timestamp_top = i - 1\n",
    "        content = f\"{combine[index_top]}\\n{combine[timestamp_top]}\\n{combine[i]}\\n\"\n",
    "        print(content)\n"
   ]
  },
  {
   "cell_type": "code",
   "execution_count": null,
   "id": "8f4c4ed1-13f9-40e2-8693-f1d22d0ae8a2",
   "metadata": {},
   "outputs": [],
   "source": []
  }
 ],
 "metadata": {
  "kernelspec": {
   "display_name": "Python 3 (ipykernel)",
   "language": "python",
   "name": "python3"
  },
  "language_info": {
   "codemirror_mode": {
    "name": "ipython",
    "version": 3
   },
   "file_extension": ".py",
   "mimetype": "text/x-python",
   "name": "python",
   "nbconvert_exporter": "python",
   "pygments_lexer": "ipython3",
   "version": "3.9.7"
  }
 },
 "nbformat": 4,
 "nbformat_minor": 5
}
