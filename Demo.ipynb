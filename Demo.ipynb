{
  "nbformat": 4,
  "nbformat_minor": 0,
  "metadata": {
    "colab": {
      "name": "Demo.ipynb",
      "version": "0.3.2",
      "provenance": [],
      "include_colab_link": true
    },
    "kernelspec": {
      "name": "python3",
      "display_name": "Python 3"
    }
  },
  "cells": [
    {
      "cell_type": "markdown",
      "metadata": {
        "id": "view-in-github",
        "colab_type": "text"
      },
      "source": [
        "<a href=\"https://colab.research.google.com/github/clueple/pythonbeginner/blob/master/Demo.ipynb\" target=\"_parent\"><img src=\"https://colab.research.google.com/assets/colab-badge.svg\" alt=\"Open In Colab\"/></a>"
      ]
    },
    {
      "cell_type": "code",
      "metadata": {
        "id": "97UhH1aXkT_O",
        "colab_type": "code",
        "colab": {}
      },
      "source": [
        "import pandas as pd"
      ],
      "execution_count": 0,
      "outputs": []
    },
    {
      "cell_type": "code",
      "metadata": {
        "id": "FW13Qh_hkWbB",
        "colab_type": "code",
        "colab": {}
      },
      "source": [
        "#assign is_list_like attribute to pandas.api.types \n",
        "#required step before importing pandas_datareader 0.5.0 \n",
        "pd.core.common.is_list_like = pd.api.types.is_list_like"
      ],
      "execution_count": 0,
      "outputs": []
    },
    {
      "cell_type": "code",
      "metadata": {
        "id": "d09IWjtSkj3p",
        "colab_type": "code",
        "colab": {}
      },
      "source": [
        "import pandas_datareader.data as web"
      ],
      "execution_count": 0,
      "outputs": []
    },
    {
      "cell_type": "code",
      "metadata": {
        "id": "3GEp-N8-kxsD",
        "colab_type": "code",
        "outputId": "66581e87-a3a1-440d-fbec-106bfa32394e",
        "colab": {
          "base_uri": "https://localhost:8080/",
          "height": 175
        }
      },
      "source": [
        "stock = 'BTC-USD'\n",
        "start = '1986-06-01'\n",
        "import datetime as dt\n",
        "end = dt.datetime.today()\n",
        "df = web.DataReader(stock,'yahoo',start,end)\n",
        "df.tail(3)"
      ],
      "execution_count": 0,
      "outputs": [
        {
          "output_type": "execute_result",
          "data": {
            "text/html": [
              "<div>\n",
              "<style scoped>\n",
              "    .dataframe tbody tr th:only-of-type {\n",
              "        vertical-align: middle;\n",
              "    }\n",
              "\n",
              "    .dataframe tbody tr th {\n",
              "        vertical-align: top;\n",
              "    }\n",
              "\n",
              "    .dataframe thead th {\n",
              "        text-align: right;\n",
              "    }\n",
              "</style>\n",
              "<table border=\"1\" class=\"dataframe\">\n",
              "  <thead>\n",
              "    <tr style=\"text-align: right;\">\n",
              "      <th></th>\n",
              "      <th>High</th>\n",
              "      <th>Low</th>\n",
              "      <th>Open</th>\n",
              "      <th>Close</th>\n",
              "      <th>Volume</th>\n",
              "      <th>Adj Close</th>\n",
              "    </tr>\n",
              "    <tr>\n",
              "      <th>Date</th>\n",
              "      <th></th>\n",
              "      <th></th>\n",
              "      <th></th>\n",
              "      <th></th>\n",
              "      <th></th>\n",
              "      <th></th>\n",
              "    </tr>\n",
              "  </thead>\n",
              "  <tbody>\n",
              "    <tr>\n",
              "      <th>2019-06-30</th>\n",
              "      <td>11207.000000</td>\n",
              "      <td>10006.429688</td>\n",
              "      <td>10769.049805</td>\n",
              "      <td>10591.870117</td>\n",
              "      <td>1225129699</td>\n",
              "      <td>10591.870117</td>\n",
              "    </tr>\n",
              "    <tr>\n",
              "      <th>2019-07-01</th>\n",
              "      <td>10927.599609</td>\n",
              "      <td>9678.099609</td>\n",
              "      <td>10591.870117</td>\n",
              "      <td>10761.709961</td>\n",
              "      <td>1232907636</td>\n",
              "      <td>10761.709961</td>\n",
              "    </tr>\n",
              "    <tr>\n",
              "      <th>2019-07-03</th>\n",
              "      <td>11436.030273</td>\n",
              "      <td>10841.910156</td>\n",
              "      <td>10844.389648</td>\n",
              "      <td>11306.309570</td>\n",
              "      <td>330317696</td>\n",
              "      <td>11306.309570</td>\n",
              "    </tr>\n",
              "  </tbody>\n",
              "</table>\n",
              "</div>"
            ],
            "text/plain": [
              "                    High           Low  ...      Volume     Adj Close\n",
              "Date                                    ...                          \n",
              "2019-06-30  11207.000000  10006.429688  ...  1225129699  10591.870117\n",
              "2019-07-01  10927.599609   9678.099609  ...  1232907636  10761.709961\n",
              "2019-07-03  11436.030273  10841.910156  ...   330317696  11306.309570\n",
              "\n",
              "[3 rows x 6 columns]"
            ]
          },
          "metadata": {
            "tags": []
          },
          "execution_count": 31
        }
      ]
    },
    {
      "cell_type": "code",
      "metadata": {
        "id": "rKw930N_lOrB",
        "colab_type": "code",
        "outputId": "4622b998-9c12-4439-e492-0ee2e819aefa",
        "colab": {
          "base_uri": "https://localhost:8080/",
          "height": 175
        }
      },
      "source": [
        "#drop column 'Close' and rename column 'Adj Close' as 'Close'\n",
        "# df.drop('Close',axis=1, inplace=True)\n",
        "# df.rename(columns={'Adj Close': 'Close'}, inplace=True)\n",
        "\n",
        "df.drop('Close', axis=1, inplace=True)\n",
        "df.rename(columns={'Adj Close':'Close'}, inplace=True)\n",
        "df.tail(3)"
      ],
      "execution_count": 0,
      "outputs": [
        {
          "output_type": "execute_result",
          "data": {
            "text/html": [
              "<div>\n",
              "<style scoped>\n",
              "    .dataframe tbody tr th:only-of-type {\n",
              "        vertical-align: middle;\n",
              "    }\n",
              "\n",
              "    .dataframe tbody tr th {\n",
              "        vertical-align: top;\n",
              "    }\n",
              "\n",
              "    .dataframe thead th {\n",
              "        text-align: right;\n",
              "    }\n",
              "</style>\n",
              "<table border=\"1\" class=\"dataframe\">\n",
              "  <thead>\n",
              "    <tr style=\"text-align: right;\">\n",
              "      <th></th>\n",
              "      <th>High</th>\n",
              "      <th>Low</th>\n",
              "      <th>Open</th>\n",
              "      <th>Volume</th>\n",
              "      <th>Close</th>\n",
              "    </tr>\n",
              "    <tr>\n",
              "      <th>Date</th>\n",
              "      <th></th>\n",
              "      <th></th>\n",
              "      <th></th>\n",
              "      <th></th>\n",
              "      <th></th>\n",
              "    </tr>\n",
              "  </thead>\n",
              "  <tbody>\n",
              "    <tr>\n",
              "      <th>2019-06-30</th>\n",
              "      <td>11207.000000</td>\n",
              "      <td>10006.429688</td>\n",
              "      <td>10769.049805</td>\n",
              "      <td>1225129699</td>\n",
              "      <td>10591.870117</td>\n",
              "    </tr>\n",
              "    <tr>\n",
              "      <th>2019-07-01</th>\n",
              "      <td>10927.599609</td>\n",
              "      <td>9678.099609</td>\n",
              "      <td>10591.870117</td>\n",
              "      <td>1232907636</td>\n",
              "      <td>10761.709961</td>\n",
              "    </tr>\n",
              "    <tr>\n",
              "      <th>2019-07-03</th>\n",
              "      <td>11436.030273</td>\n",
              "      <td>10841.910156</td>\n",
              "      <td>10844.389648</td>\n",
              "      <td>330317696</td>\n",
              "      <td>11306.309570</td>\n",
              "    </tr>\n",
              "  </tbody>\n",
              "</table>\n",
              "</div>"
            ],
            "text/plain": [
              "                    High           Low          Open      Volume         Close\n",
              "Date                                                                          \n",
              "2019-06-30  11207.000000  10006.429688  10769.049805  1225129699  10591.870117\n",
              "2019-07-01  10927.599609   9678.099609  10591.870117  1232907636  10761.709961\n",
              "2019-07-03  11436.030273  10841.910156  10844.389648   330317696  11306.309570"
            ]
          },
          "metadata": {
            "tags": []
          },
          "execution_count": 32
        }
      ]
    },
    {
      "cell_type": "code",
      "metadata": {
        "id": "zXBd66MWmK7H",
        "colab_type": "code",
        "colab": {}
      },
      "source": [
        "import matplotlib.pyplot as plt"
      ],
      "execution_count": 0,
      "outputs": []
    },
    {
      "cell_type": "code",
      "metadata": {
        "id": "dUsA_ofTnHCu",
        "colab_type": "code",
        "outputId": "d03747ff-475b-4eba-f5e9-d047a65b2c42",
        "colab": {
          "base_uri": "https://localhost:8080/",
          "height": 295
        }
      },
      "source": [
        "%matplotlib inline \n",
        "\n",
        "fig = plt.subplots(nrows=1, ncols=1)\n",
        "\n",
        "# ax = fig.set_xlabel('Example Date')\n",
        "\n",
        "plt.xlabel('Date')\n",
        "plt.ylabel('Average Close', rotation = 0)\n",
        "plt.title('Average Close for period {start} - {end}')\n",
        "\n",
        "result = df['Close'].resample('M').mean().plot()\n",
        "\n",
        "plt.show(result)\n"
      ],
      "execution_count": 0,
      "outputs": [
        {
          "output_type": "display_data",
          "data": {
            "image/png": "[encoded data removed]",
            "text/plain": [
              "<Figure size 432x288 with 1 Axes>"
            ]
          },
          "metadata": {
            "tags": []
          }
        }
      ]
    },
    {
      "cell_type": "code",
      "metadata": {
        "id": "TMULOyFcn3hj",
        "colab_type": "code",
        "colab": {}
      },
      "source": [
        ""
      ],
      "execution_count": 0,
      "outputs": []
    }
  ]
}