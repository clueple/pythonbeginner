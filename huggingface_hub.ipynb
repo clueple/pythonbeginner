{
 "cells": [
  {
   "cell_type": "code",
   "execution_count": 2,
   "id": "3ad0e9dc-40f3-4b35-b871-0f14f7fe800b",
   "metadata": {},
   "outputs": [
    {
     "data": {
      "text/plain": [
       "'\\nfrom huggingface_hub import snapshot_download\\n\\nrepo_id = \"deepdml/faster-whisper-large-v3-turbo-ct2\"\\nlocal_dir = \"faster-whisper-large-v3-turbo-ct2\"\\nsnapshot_download(repo_id=repo_id, local_dir=local_dir, repo_type=\"model\")\\n'"
      ]
     },
     "execution_count": 2,
     "metadata": {},
     "output_type": "execute_result"
    }
   ],
   "source": [
    "\"\"\"\n",
    "from huggingface_hub import hf_hub_download\n",
    "\n",
    "# Download the model\n",
    "#model_path = hf_hub_download(repo_id=\"openai/whisper-large-v3-turbo\", filename=\"pytorch_model.bin\")\n",
    "model_path = hf_hub_download(repo_id=\"openai/whisper-large-v3-turbo\", filename=\"whisper_turbo.bin\")\n",
    "\n",
    "print(f\"Model downloaded to: {model_path}\")\n",
    "\"\"\"\n",
    "\n",
    "\"\"\"\n",
    "from huggingface_hub import snapshot_download\n",
    "\n",
    "repo_id = \"deepdml/faster-whisper-large-v3-turbo-ct2\"\n",
    "local_dir = \"faster-whisper-large-v3-turbo-ct2\"\n",
    "snapshot_download(repo_id=repo_id, local_dir=local_dir, repo_type=\"model\")\n",
    "\"\"\"\n"
   ]
  },
  {
   "cell_type": "code",
   "execution_count": 1,
   "id": "b088d92e-1ce7-43d6-915f-6ec206b32d4c",
   "metadata": {},
   "outputs": [],
   "source": [
    "#checkpoint = 'facebook/nllb-200-distilled-600M'\n",
    "checkpoint = 'facebook/nllb-200-distilled-600M'"
   ]
  },
  {
   "cell_type": "code",
   "execution_count": 2,
   "id": "bf834cbb-780b-46b3-b73c-53be7ab8c046",
   "metadata": {},
   "outputs": [
    {
     "name": "stderr",
     "output_type": "stream",
     "text": [
      "G:\\testjupyter\\Lib\\site-packages\\tqdm\\auto.py:21: TqdmWarning: IProgress not found. Please update jupyter and ipywidgets. See https://ipywidgets.readthedocs.io/en/stable/user_install.html\n",
      "  from .autonotebook import tqdm as notebook_tqdm\n"
     ]
    }
   ],
   "source": [
    "from transformers import AutoTokenizer, AutoModelForSeq2SeqLM, pipeline"
   ]
  },
  {
   "cell_type": "code",
   "execution_count": 3,
   "id": "41589432-4b59-4e40-abed-c94cc9947855",
   "metadata": {},
   "outputs": [],
   "source": [
    "model = AutoModelForSeq2SeqLM.from_pretrained(checkpoint)"
   ]
  },
  {
   "cell_type": "code",
   "execution_count": 4,
   "id": "32a8aaf5-2089-4762-9f0d-d53fa51eca3a",
   "metadata": {},
   "outputs": [],
   "source": [
    "tokenizer = AutoTokenizer.from_pretrained(checkpoint)"
   ]
  },
  {
   "cell_type": "code",
   "execution_count": 5,
   "id": "784c548a-9f3c-4a22-9f4c-9ed74fe5ca63",
   "metadata": {},
   "outputs": [
    {
     "name": "stderr",
     "output_type": "stream",
     "text": [
      "Device set to use cpu\n"
     ]
    }
   ],
   "source": [
    "source_lang = r'eng_Latn'\n",
    "target_lang = r'yue_Hant'\n",
    "\n",
    "translator = pipeline('translation', model=model,tokenizer=tokenizer, src_lang= 'eng_Latn', tgt_lang= 'yue_Hant', max_length = 400)"
   ]
  },
  {
   "cell_type": "code",
   "execution_count": 6,
   "id": "613fe6a0-daed-4e4d-aa99-162a1a1c6970",
   "metadata": {},
   "outputs": [],
   "source": [
    "def get_trans(input_txt:str):\n",
    "    output = translator(input_txt)\n",
    "    translated_text = output[0]['translation_text']\n",
    "    print(translated_text)"
   ]
  },
  {
   "cell_type": "code",
   "execution_count": 9,
   "id": "7881266d-4718-4f43-a92f-e3759662cc25",
   "metadata": {},
   "outputs": [
    {
     "name": "stdout",
     "output_type": "stream",
     "text": [
      "佢瘋狂\n"
     ]
    }
   ],
   "source": [
    "enter_text = r'He is crazy'\n",
    "get_trans(input_txt = enter_text)"
   ]
  },
  {
   "cell_type": "code",
   "execution_count": null,
   "id": "9b84c419-0618-488f-8162-2778121c403d",
   "metadata": {},
   "outputs": [],
   "source": []
  }
 ],
 "metadata": {
  "kernelspec": {
   "display_name": "Python 3 (ipykernel)",
   "language": "python",
   "name": "python3"
  },
  "language_info": {
   "codemirror_mode": {
    "name": "ipython",
    "version": 3
   },
   "file_extension": ".py",
   "mimetype": "text/x-python",
   "name": "python",
   "nbconvert_exporter": "python",
   "pygments_lexer": "ipython3",
   "version": "3.13.1"
  }
 },
 "nbformat": 4,
 "nbformat_minor": 5
}
