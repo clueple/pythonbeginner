{
 "cells": [
  {
   "cell_type": "code",
   "execution_count": 1,
   "id": "745ebaa5-5ece-4048-8918-351aa9d559c1",
   "metadata": {},
   "outputs": [],
   "source": [
    "from pycantonese import characters_to_jyutping as ctj\n",
    "import re"
   ]
  },
  {
   "cell_type": "code",
   "execution_count": 2,
   "id": "b136aa6c-784a-4dd1-8aa7-8ec1a501b6e0",
   "metadata": {},
   "outputs": [],
   "source": [
    "src_txt = r'廣東話e唔easy呀?'\n",
    "can_pat = r'[\\u4e00-\\u9fff]+$'"
   ]
  },
  {
   "cell_type": "code",
   "execution_count": 3,
   "id": "0976f4b0-5f04-4639-90fb-fc622419fdfa",
   "metadata": {},
   "outputs": [],
   "source": [
    "class CantoneseTokenize:\n",
    "    def __init__(self, source_text):\n",
    "        self.tokens = self.tokenize(source_text)\n",
    "        self.j_tokens = [i[1] if re.match(can_pat,i[0]) else i[0]  for i in self.tokens]\n",
    "\n",
    "    def tokenize(self, source_text):\n",
    "        \"\"\" Tokenize the source_text using pycantonese \"\"\"\n",
    "        try: \n",
    "            tokens = ctj(source_text)\n",
    "            return tokens\n",
    "        except:\n",
    "            print(f\"error during tokenization {e}\")\n",
    "            return []\n",
    "            "
   ]
  },
  {
   "cell_type": "markdown",
   "id": "8d6b0445-5031-47fc-9049-90ad33152e98",
   "metadata": {},
   "source": [
    "# **preview**"
   ]
  },
  {
   "cell_type": "code",
   "execution_count": 5,
   "id": "a090763b-9438-4ef4-b253-569c9a085396",
   "metadata": {},
   "outputs": [
    {
     "name": "stdout",
     "output_type": "stream",
     "text": [
      "[('廣東話', 'gwong2dung1waa2'), ('e', 'e1'), ('唔', 'm4'), ('easy', None), ('呀', 'aa4'), ('?', None)]\n",
      "['gwong2dung1waa2', 'e', 'm4', 'easy', 'aa4', '?']\n"
     ]
    }
   ],
   "source": [
    "sent_tok = CantoneseTokenize(source_text=src_txt)\n",
    "tokens = sent_tok.tokens\n",
    "j_tokens = sent_tok.j_tokens\n",
    "\n",
    "print(f\"{tokens}\\n{j_tokens}\")"
   ]
  },
  {
   "cell_type": "code",
   "execution_count": 19,
   "id": "efcea40d-e8b0-4915-bb57-a8dd617d5ab4",
   "metadata": {},
   "outputs": [
    {
     "data": {
      "text/plain": [
       "['gwong2', 'dung1', 'waa2']"
      ]
     },
     "execution_count": 19,
     "metadata": {},
     "output_type": "execute_result"
    }
   ],
   "source": [
    "num_pat = r'(\\d)'\n",
    "rep_pat = r'\\1 '\n",
    "t = r'gwong2dung1waa2'\n",
    "t = re.sub(num_pat, rep_pat, t).split()\n",
    "\n",
    "t"
   ]
  },
  {
   "cell_type": "code",
   "execution_count": null,
   "id": "b675eb66-ff51-47ff-bc92-3c9170e8dbbb",
   "metadata": {},
   "outputs": [],
   "source": []
  }
 ],
 "metadata": {
  "kernelspec": {
   "display_name": "Python 3 (ipykernel)",
   "language": "python",
   "name": "python3"
  },
  "language_info": {
   "codemirror_mode": {
    "name": "ipython",
    "version": 3
   },
   "file_extension": ".py",
   "mimetype": "text/x-python",
   "name": "python",
   "nbconvert_exporter": "python",
   "pygments_lexer": "ipython3",
   "version": "3.11.7"
  }
 },
 "nbformat": 4,
 "nbformat_minor": 5
}
