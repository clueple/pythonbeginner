{
 "cells": [
  {
   "cell_type": "code",
   "execution_count": 30,
   "metadata": {},
   "outputs": [],
   "source": [
    "import pandas as pd"
   ]
  },
  {
   "cell_type": "code",
   "execution_count": 24,
   "metadata": {},
   "outputs": [],
   "source": [
    "import matplotlib.pyplot as plt\n",
    "\n",
    "%matplotlib inline"
   ]
  },
  {
   "cell_type": "code",
   "execution_count": 1,
   "metadata": {},
   "outputs": [],
   "source": [
    "#file = 'D:\\datafile\\hsif_roll_data.xlsx'"
   ]
  },
  {
   "cell_type": "code",
   "execution_count": 22,
   "metadata": {},
   "outputs": [
    {
     "data": {
      "text/html": [
       "<div>\n",
       "<style scoped>\n",
       "    .dataframe tbody tr th:only-of-type {\n",
       "        vertical-align: middle;\n",
       "    }\n",
       "\n",
       "    .dataframe tbody tr th {\n",
       "        vertical-align: top;\n",
       "    }\n",
       "\n",
       "    .dataframe thead th {\n",
       "        text-align: right;\n",
       "    }\n",
       "</style>\n",
       "<table border=\"1\" class=\"dataframe\">\n",
       "  <thead>\n",
       "    <tr style=\"text-align: right;\">\n",
       "      <th></th>\n",
       "      <th>High</th>\n",
       "      <th>Low</th>\n",
       "      <th>Open</th>\n",
       "      <th>Close</th>\n",
       "      <th>Volume</th>\n",
       "      <th>Adj Close</th>\n",
       "    </tr>\n",
       "    <tr>\n",
       "      <th>Date</th>\n",
       "      <th></th>\n",
       "      <th></th>\n",
       "      <th></th>\n",
       "      <th></th>\n",
       "      <th></th>\n",
       "      <th></th>\n",
       "    </tr>\n",
       "  </thead>\n",
       "  <tbody>\n",
       "    <tr>\n",
       "      <th>2020-02-28</th>\n",
       "      <td>25494.240234</td>\n",
       "      <td>24681.009766</td>\n",
       "      <td>25270.830078</td>\n",
       "      <td>25409.359375</td>\n",
       "      <td>915990000</td>\n",
       "      <td>25409.359375</td>\n",
       "    </tr>\n",
       "    <tr>\n",
       "      <th>2020-03-02</th>\n",
       "      <td>26706.169922</td>\n",
       "      <td>25391.960938</td>\n",
       "      <td>25590.509766</td>\n",
       "      <td>26703.320312</td>\n",
       "      <td>637200000</td>\n",
       "      <td>26703.320312</td>\n",
       "    </tr>\n",
       "    <tr>\n",
       "      <th>2020-03-03</th>\n",
       "      <td>27084.589844</td>\n",
       "      <td>25706.279297</td>\n",
       "      <td>26762.470703</td>\n",
       "      <td>25917.410156</td>\n",
       "      <td>647080000</td>\n",
       "      <td>25917.410156</td>\n",
       "    </tr>\n",
       "    <tr>\n",
       "      <th>2020-03-04</th>\n",
       "      <td>27102.339844</td>\n",
       "      <td>26286.310547</td>\n",
       "      <td>26383.679688</td>\n",
       "      <td>27090.859375</td>\n",
       "      <td>457590000</td>\n",
       "      <td>27090.859375</td>\n",
       "    </tr>\n",
       "    <tr>\n",
       "      <th>2020-03-05</th>\n",
       "      <td>26671.919922</td>\n",
       "      <td>25943.330078</td>\n",
       "      <td>26671.919922</td>\n",
       "      <td>26121.279297</td>\n",
       "      <td>477370000</td>\n",
       "      <td>26121.279297</td>\n",
       "    </tr>\n",
       "  </tbody>\n",
       "</table>\n",
       "</div>"
      ],
      "text/plain": [
       "                    High           Low          Open         Close     Volume  \\\n",
       "Date                                                                            \n",
       "2020-02-28  25494.240234  24681.009766  25270.830078  25409.359375  915990000   \n",
       "2020-03-02  26706.169922  25391.960938  25590.509766  26703.320312  637200000   \n",
       "2020-03-03  27084.589844  25706.279297  26762.470703  25917.410156  647080000   \n",
       "2020-03-04  27102.339844  26286.310547  26383.679688  27090.859375  457590000   \n",
       "2020-03-05  26671.919922  25943.330078  26671.919922  26121.279297  477370000   \n",
       "\n",
       "               Adj Close  \n",
       "Date                      \n",
       "2020-02-28  25409.359375  \n",
       "2020-03-02  26703.320312  \n",
       "2020-03-03  25917.410156  \n",
       "2020-03-04  27090.859375  \n",
       "2020-03-05  26121.279297  "
      ]
     },
     "execution_count": 22,
     "metadata": {},
     "output_type": "execute_result"
    }
   ],
   "source": [
    "#df = pd.read_excel(file, index_col='Date').dropna()\n",
    "import pandas_datareader.data as web\n",
    "import datetime as dt\n",
    "\n",
    "stock = '^dji'\n",
    "start = '1987-01-01'\n",
    "end = dt.datetime.today()\n",
    "\n",
    "df = web.DataReader(stock,'yahoo', start, end)\n",
    "df.tail()"
   ]
  },
  {
   "cell_type": "code",
   "execution_count": 24,
   "metadata": {},
   "outputs": [
    {
     "data": {
      "text/html": [
       "<div>\n",
       "<style scoped>\n",
       "    .dataframe tbody tr th:only-of-type {\n",
       "        vertical-align: middle;\n",
       "    }\n",
       "\n",
       "    .dataframe tbody tr th {\n",
       "        vertical-align: top;\n",
       "    }\n",
       "\n",
       "    .dataframe thead th {\n",
       "        text-align: right;\n",
       "    }\n",
       "</style>\n",
       "<table border=\"1\" class=\"dataframe\">\n",
       "  <thead>\n",
       "    <tr style=\"text-align: right;\">\n",
       "      <th></th>\n",
       "      <th>High</th>\n",
       "      <th>Low</th>\n",
       "      <th>Open</th>\n",
       "      <th>Volume</th>\n",
       "      <th>Adj Close</th>\n",
       "    </tr>\n",
       "    <tr>\n",
       "      <th>Date</th>\n",
       "      <th></th>\n",
       "      <th></th>\n",
       "      <th></th>\n",
       "      <th></th>\n",
       "      <th></th>\n",
       "    </tr>\n",
       "  </thead>\n",
       "  <tbody>\n",
       "    <tr>\n",
       "      <th>2020-02-28</th>\n",
       "      <td>25494.240234</td>\n",
       "      <td>24681.009766</td>\n",
       "      <td>25270.830078</td>\n",
       "      <td>915990000</td>\n",
       "      <td>25409.359375</td>\n",
       "    </tr>\n",
       "    <tr>\n",
       "      <th>2020-03-02</th>\n",
       "      <td>26706.169922</td>\n",
       "      <td>25391.960938</td>\n",
       "      <td>25590.509766</td>\n",
       "      <td>637200000</td>\n",
       "      <td>26703.320312</td>\n",
       "    </tr>\n",
       "    <tr>\n",
       "      <th>2020-03-03</th>\n",
       "      <td>27084.589844</td>\n",
       "      <td>25706.279297</td>\n",
       "      <td>26762.470703</td>\n",
       "      <td>647080000</td>\n",
       "      <td>25917.410156</td>\n",
       "    </tr>\n",
       "    <tr>\n",
       "      <th>2020-03-04</th>\n",
       "      <td>27102.339844</td>\n",
       "      <td>26286.310547</td>\n",
       "      <td>26383.679688</td>\n",
       "      <td>457590000</td>\n",
       "      <td>27090.859375</td>\n",
       "    </tr>\n",
       "    <tr>\n",
       "      <th>2020-03-05</th>\n",
       "      <td>26671.919922</td>\n",
       "      <td>25943.330078</td>\n",
       "      <td>26671.919922</td>\n",
       "      <td>477370000</td>\n",
       "      <td>26121.279297</td>\n",
       "    </tr>\n",
       "  </tbody>\n",
       "</table>\n",
       "</div>"
      ],
      "text/plain": [
       "                    High           Low          Open     Volume     Adj Close\n",
       "Date                                                                         \n",
       "2020-02-28  25494.240234  24681.009766  25270.830078  915990000  25409.359375\n",
       "2020-03-02  26706.169922  25391.960938  25590.509766  637200000  26703.320312\n",
       "2020-03-03  27084.589844  25706.279297  26762.470703  647080000  25917.410156\n",
       "2020-03-04  27102.339844  26286.310547  26383.679688  457590000  27090.859375\n",
       "2020-03-05  26671.919922  25943.330078  26671.919922  477370000  26121.279297"
      ]
     },
     "execution_count": 24,
     "metadata": {},
     "output_type": "execute_result"
    }
   ],
   "source": [
    "df.drop(['Close'], axis=1, inplace=True)\n",
    "df.tail()"
   ]
  },
  {
   "cell_type": "code",
   "execution_count": 27,
   "metadata": {},
   "outputs": [
    {
     "data": {
      "text/html": [
       "<div>\n",
       "<style scoped>\n",
       "    .dataframe tbody tr th:only-of-type {\n",
       "        vertical-align: middle;\n",
       "    }\n",
       "\n",
       "    .dataframe tbody tr th {\n",
       "        vertical-align: top;\n",
       "    }\n",
       "\n",
       "    .dataframe thead th {\n",
       "        text-align: right;\n",
       "    }\n",
       "</style>\n",
       "<table border=\"1\" class=\"dataframe\">\n",
       "  <thead>\n",
       "    <tr style=\"text-align: right;\">\n",
       "      <th></th>\n",
       "      <th>High</th>\n",
       "      <th>Low</th>\n",
       "      <th>Open</th>\n",
       "      <th>Volume</th>\n",
       "      <th>Close</th>\n",
       "    </tr>\n",
       "    <tr>\n",
       "      <th>Date</th>\n",
       "      <th></th>\n",
       "      <th></th>\n",
       "      <th></th>\n",
       "      <th></th>\n",
       "      <th></th>\n",
       "    </tr>\n",
       "  </thead>\n",
       "  <tbody>\n",
       "    <tr>\n",
       "      <th>2020-02-28</th>\n",
       "      <td>25494.240234</td>\n",
       "      <td>24681.009766</td>\n",
       "      <td>25270.830078</td>\n",
       "      <td>915990000</td>\n",
       "      <td>25409.359375</td>\n",
       "    </tr>\n",
       "    <tr>\n",
       "      <th>2020-03-02</th>\n",
       "      <td>26706.169922</td>\n",
       "      <td>25391.960938</td>\n",
       "      <td>25590.509766</td>\n",
       "      <td>637200000</td>\n",
       "      <td>26703.320312</td>\n",
       "    </tr>\n",
       "    <tr>\n",
       "      <th>2020-03-03</th>\n",
       "      <td>27084.589844</td>\n",
       "      <td>25706.279297</td>\n",
       "      <td>26762.470703</td>\n",
       "      <td>647080000</td>\n",
       "      <td>25917.410156</td>\n",
       "    </tr>\n",
       "    <tr>\n",
       "      <th>2020-03-04</th>\n",
       "      <td>27102.339844</td>\n",
       "      <td>26286.310547</td>\n",
       "      <td>26383.679688</td>\n",
       "      <td>457590000</td>\n",
       "      <td>27090.859375</td>\n",
       "    </tr>\n",
       "    <tr>\n",
       "      <th>2020-03-05</th>\n",
       "      <td>26671.919922</td>\n",
       "      <td>25943.330078</td>\n",
       "      <td>26671.919922</td>\n",
       "      <td>477370000</td>\n",
       "      <td>26121.279297</td>\n",
       "    </tr>\n",
       "  </tbody>\n",
       "</table>\n",
       "</div>"
      ],
      "text/plain": [
       "                    High           Low          Open     Volume         Close\n",
       "Date                                                                         \n",
       "2020-02-28  25494.240234  24681.009766  25270.830078  915990000  25409.359375\n",
       "2020-03-02  26706.169922  25391.960938  25590.509766  637200000  26703.320312\n",
       "2020-03-03  27084.589844  25706.279297  26762.470703  647080000  25917.410156\n",
       "2020-03-04  27102.339844  26286.310547  26383.679688  457590000  27090.859375\n",
       "2020-03-05  26671.919922  25943.330078  26671.919922  477370000  26121.279297"
      ]
     },
     "execution_count": 27,
     "metadata": {},
     "output_type": "execute_result"
    }
   ],
   "source": [
    "df.rename(columns={'Adj Close':'Close'},inplace=True)\n",
    "# mav_vol = df['Volume'].rolling(window=20).mean()\n",
    "df.tail()"
   ]
  },
  {
   "cell_type": "code",
   "execution_count": 28,
   "metadata": {},
   "outputs": [],
   "source": [
    "from matplotlib import pyplot as plt \n",
    "\n",
    "'''testing plotting with Chinese'''\n",
    "import matplotlib.font_manager as mfm\n",
    "\n",
    "# font_path = r'c:\\\\Windows\\fonts\\kaiu.ttf'\n",
    "font_path=r'c:\\\\WINDOWS\\FONTS\\DENG.TTF'\n",
    "prop = mfm.FontProperties(fname=font_path)\n",
    "# end"
   ]
  },
  {
   "cell_type": "code",
   "execution_count": 51,
   "metadata": {},
   "outputs": [],
   "source": [
    "import datetime as dt\n",
    "\n",
    "# period_start = pd.to_datetime(df.index[0]).strftime('%Y-%m-%d')\n",
    "period_start = '2020-01-01'\n",
    "period_end = dt.datetime.today().strftime('%Y-%m-%d')\n",
    "period = (df.index>=period_start) & (df.index<=period_end)\n",
    "lastday = pd.to_datetime(df.index[-2]).strftime('%Y-%m-%d')\n"
   ]
  },
  {
   "cell_type": "code",
   "execution_count": 52,
   "metadata": {},
   "outputs": [
    {
     "data": {
      "image/png": "[encoded data removed]",
      "text/plain": [
       "<Figure size 576x396 with 1 Axes>"
      ]
     },
     "metadata": {},
     "output_type": "display_data"
    }
   ],
   "source": [
    "stock_name = \"道指 ('^DJI')\"\n",
    "\n",
    "plt.style.use('seaborn')\n",
    "plt.figure()\n",
    "\n",
    "#20-day moving average:\n",
    "mav_vol = df['Volume'].rolling(window=20).mean()\n",
    "\n",
    "#stock_name 20-day moving average volumne plotting details\n",
    "plt.subplot()\n",
    "display_mav_vol_name = '20天移動平均成交'\n",
    "# plt.xlabel('')\n",
    "plt.xlabel('日期',FontProperties=prop)\n",
    "plt.ylabel(f'{stock_name}{display_mav_vol_name}', rotation =0, FontProperties=prop)\n",
    "plt.title(f\"{display_mav_vol_name}: {period_start} 至 {period_end} \", FontProperties=prop) \n",
    "mav_vol_print1 = df.loc[period,'Volume'].resample('20D').mean().plot()\n"
   ]
  },
  {
   "cell_type": "code",
   "execution_count": 53,
   "metadata": {},
   "outputs": [
    {
     "data": {
      "image/png": "[encoded data removed]",
      "text/plain": [
       "<Figure size 576x396 with 1 Axes>"
      ]
     },
     "metadata": {},
     "output_type": "display_data"
    }
   ],
   "source": [
    "#stock_name 20-day moving average volumne plotting details\n",
    "plt.subplot()\n",
    "display_close_name = '收市價'\n",
    "# plt.xlabel('')\n",
    "plt.xlabel('日期',FontProperties=prop)\n",
    "plt.ylabel(f'{stock_name}{display_mav_vol_name}', rotation =0, FontProperties=prop)\n",
    "plt.title(f\"{display_mav_vol_name}: {period_start} 至 {period_end} \", FontProperties=prop) \n",
    "mav_vol_print1 = df.loc[period,'Close'].resample('1D').mean().plot()\n"
   ]
  },
  {
   "cell_type": "code",
   "execution_count": null,
   "metadata": {},
   "outputs": [],
   "source": []
  }
 ],
 "metadata": {
  "kernelspec": {
   "display_name": "Python 3",
   "language": "python",
   "name": "python3"
  },
  "language_info": {
   "codemirror_mode": {
    "name": "ipython",
    "version": 3
   },
   "file_extension": ".py",
   "mimetype": "text/x-python",
   "name": "python",
   "nbconvert_exporter": "python",
   "pygments_lexer": "ipython3",
   "version": "3.7.5"
  }
 },
 "nbformat": 4,
 "nbformat_minor": 4
}
