{
 "cells": [
  {
   "cell_type": "markdown",
   "id": "feb67e69-dc04-448d-9b69-8972975fccea",
   "metadata": {},
   "source": [
    "# Read data source"
   ]
  },
  {
   "cell_type": "code",
   "execution_count": 1,
   "id": "07aa6c93-ea97-4042-8f0a-3de0e8f8edd4",
   "metadata": {},
   "outputs": [
    {
     "data": {
      "text/html": [
       "<div>\n",
       "<style scoped>\n",
       "    .dataframe tbody tr th:only-of-type {\n",
       "        vertical-align: middle;\n",
       "    }\n",
       "\n",
       "    .dataframe tbody tr th {\n",
       "        vertical-align: top;\n",
       "    }\n",
       "\n",
       "    .dataframe thead th {\n",
       "        text-align: right;\n",
       "    }\n",
       "</style>\n",
       "<table border=\"1\" class=\"dataframe\">\n",
       "  <thead>\n",
       "    <tr style=\"text-align: right;\">\n",
       "      <th></th>\n",
       "      <th>ref</th>\n",
       "      <th>code</th>\n",
       "      <th>eng</th>\n",
       "      <th>jap</th>\n",
       "      <th>chi</th>\n",
       "    </tr>\n",
       "  </thead>\n",
       "  <tbody>\n",
       "    <tr>\n",
       "      <th>0</th>\n",
       "      <td>1</td>\n",
       "      <td>eng</td>\n",
       "      <td>English</td>\n",
       "      <td>英語（えいご）</td>\n",
       "      <td>英文</td>\n",
       "    </tr>\n",
       "    <tr>\n",
       "      <th>1</th>\n",
       "      <td>2</td>\n",
       "      <td>jap</td>\n",
       "      <td>Japanese</td>\n",
       "      <td>日本語（にほんご）</td>\n",
       "      <td>日文</td>\n",
       "    </tr>\n",
       "    <tr>\n",
       "      <th>2</th>\n",
       "      <td>3</td>\n",
       "      <td>chi</td>\n",
       "      <td>Chinese</td>\n",
       "      <td>中国語（ちゅうご）</td>\n",
       "      <td>中文</td>\n",
       "    </tr>\n",
       "  </tbody>\n",
       "</table>\n",
       "</div>"
      ],
      "text/plain": [
       "   ref code       eng        jap chi\n",
       "0    1  eng   English    英語（えいご）  英文\n",
       "1    2  jap  Japanese  日本語（にほんご）  日文\n",
       "2    3  chi   Chinese  中国語（ちゅうご）  中文"
      ]
     },
     "execution_count": 1,
     "metadata": {},
     "output_type": "execute_result"
    }
   ],
   "source": [
    "import pandas as pd\n",
    "\n",
    "# this is where the language file is in\n",
    "data = r'g:/pybkp/lang.csv'\n",
    "# stored the language data in a vairable, 'lang'\n",
    "lang = pd.read_csv(data)\n",
    "lang"
   ]
  },
  {
   "cell_type": "markdown",
   "id": "b0420f85-f18a-4b11-99a0-5835875ae2c2",
   "metadata": {},
   "source": [
    "# Define lookup text"
   ]
  },
  {
   "cell_type": "code",
   "execution_count": 5,
   "id": "b763a019-a944-4c11-b576-4b1200188100",
   "metadata": {},
   "outputs": [
    {
     "data": {
      "text/plain": [
       "ref     False\n",
       "code    False\n",
       "eng     False\n",
       "jap      True\n",
       "chi     False\n",
       "dtype: bool"
      ]
     },
     "execution_count": 5,
     "metadata": {},
     "output_type": "execute_result"
    }
   ],
   "source": [
    "lookuptext = '日本語（にほんご）'\n",
    "# identify the column that the lookuptext is in\n",
    "lookupcol = lang.eq(lookuptext).any()\n",
    "# in this case, the lookuptext is in the column 'jap'\n",
    "lookup"
   ]
  },
  {
   "cell_type": "markdown",
   "id": "ce1422de-898e-4d71-be16-b082574318a1",
   "metadata": {},
   "source": [
    "# Return Column Name"
   ]
  },
  {
   "cell_type": "code",
   "execution_count": 24,
   "id": "e954af54-0ab6-492b-8cbd-5daddfe7ddd7",
   "metadata": {},
   "outputs": [
    {
     "data": {
      "text/plain": [
       "'jap'"
      ]
     },
     "execution_count": 24,
     "metadata": {},
     "output_type": "execute_result"
    }
   ],
   "source": [
    "# return the column name that lookup text is in\n",
    "col = lookup[lookup].index.any()\n",
    "col"
   ]
  },
  {
   "cell_type": "markdown",
   "id": "1c9ce873-d37c-49f9-b20b-19259d9deca5",
   "metadata": {},
   "source": [
    "# Revisit the 'jap' column of the table 'lang'"
   ]
  },
  {
   "cell_type": "code",
   "execution_count": 25,
   "id": "dcf154d6-19d1-40df-b227-fb519bf0b7dd",
   "metadata": {},
   "outputs": [
    {
     "data": {
      "text/plain": [
       "0      英語（えいご）\n",
       "1    日本語（にほんご）\n",
       "2    中国語（ちゅうご）\n",
       "Name: jap, dtype: object"
      ]
     },
     "execution_count": 25,
     "metadata": {},
     "output_type": "execute_result"
    }
   ],
   "source": [
    "lang[col]"
   ]
  },
  {
   "cell_type": "markdown",
   "id": "c53359cb-ba74-4cb1-ad6d-f91c5d6ed463",
   "metadata": {},
   "source": [
    "# Revisit our lookup text"
   ]
  },
  {
   "cell_type": "code",
   "execution_count": 28,
   "id": "198e8996-f7f4-478e-a63b-ae3c06aaf29b",
   "metadata": {},
   "outputs": [
    {
     "data": {
      "text/plain": [
       "'日本語（にほんご）'"
      ]
     },
     "execution_count": 28,
     "metadata": {},
     "output_type": "execute_result"
    }
   ],
   "source": [
    "lookuptext"
   ]
  },
  {
   "cell_type": "markdown",
   "id": "5edc6990-5165-4e17-95c6-b783113f3829",
   "metadata": {},
   "source": [
    "# Return the row index of our lookup text"
   ]
  },
  {
   "cell_type": "code",
   "execution_count": 66,
   "id": "cb45bd65-727b-43be-8cd7-74e90c58f2d7",
   "metadata": {},
   "outputs": [
    {
     "data": {
      "text/plain": [
       "1"
      ]
     },
     "execution_count": 66,
     "metadata": {},
     "output_type": "execute_result"
    }
   ],
   "source": [
    "# store the row index of our lookup text in the variable 'row'\n",
    "lookuprow = lang[col].eq(lookuptext)\n",
    "lookuprow[lookuprow].index[0]"
   ]
  },
  {
   "cell_type": "code",
   "execution_count": null,
   "id": "66d83b12-42e4-4288-8d0e-0d0195d243c4",
   "metadata": {},
   "outputs": [],
   "source": []
  }
 ],
 "metadata": {
  "kernelspec": {
   "display_name": "Python 3 (ipykernel)",
   "language": "python",
   "name": "python3"
  },
  "language_info": {
   "codemirror_mode": {
    "name": "ipython",
    "version": 3
   },
   "file_extension": ".py",
   "mimetype": "text/x-python",
   "name": "python",
   "nbconvert_exporter": "python",
   "pygments_lexer": "ipython3",
   "version": "3.10.1"
  }
 },
 "nbformat": 4,
 "nbformat_minor": 5
}
