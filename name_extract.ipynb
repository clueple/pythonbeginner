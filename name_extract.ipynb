{
 "cells": [
  {
   "cell_type": "markdown",
   "metadata": {},
   "source": [
    "# <b>Step1:</b>\n",
    "##    - <b>Import all the needed libraries</b> \n",
    "\n",
    "\n"
   ]
  },
  {
   "cell_type": "code",
   "execution_count": 31,
   "metadata": {},
   "outputs": [],
   "source": [
    "import pandas as pd"
   ]
  },
  {
   "cell_type": "markdown",
   "metadata": {},
   "source": [
    "# <b>Step 2: </b>\n",
    "## - <b> Define data source location - either from web or local drive </b>"
   ]
  },
  {
   "cell_type": "code",
   "execution_count": 32,
   "metadata": {},
   "outputs": [],
   "source": [
    "data_source = f\"d:/data/name_example.xlsx\""
   ]
  },
  {
   "cell_type": "markdown",
   "metadata": {},
   "source": [
    "# <b>Step 3</b>\n",
    "## - <b>Read data from data source and store in table - 'df'</b>"
   ]
  },
  {
   "cell_type": "code",
   "execution_count": 33,
   "metadata": {},
   "outputs": [
    {
     "name": "stdout",
     "output_type": "stream",
     "text": [
      "           full_name\n",
      "0  Gabriel Batistuta\n",
      "1         Abel Balbo\n",
      "2          Luca Toni\n",
      "3     Roberto Baggio\n"
     ]
    }
   ],
   "source": [
    "df = pd.read_excel(data_source, sheet_name='full_name_list')\n",
    "\n",
    "#print out table, 'df', for preview\n",
    "print(df)"
   ]
  },
  {
   "cell_type": "markdown",
   "metadata": {},
   "source": [
    "# <b>Step 4</b>\n",
    "## - <b> Task1: add 2 columns to table,'df', named 'first_name' and 'last_name'</b>\n",
    "## - <b> Task2: return the first name and last name for the columns respectively </b>"
   ]
  },
  {
   "cell_type": "code",
   "execution_count": 34,
   "metadata": {},
   "outputs": [
    {
     "data": {
      "text/html": [
       "<div>\n",
       "<style scoped>\n",
       "    .dataframe tbody tr th:only-of-type {\n",
       "        vertical-align: middle;\n",
       "    }\n",
       "\n",
       "    .dataframe tbody tr th {\n",
       "        vertical-align: top;\n",
       "    }\n",
       "\n",
       "    .dataframe thead th {\n",
       "        text-align: right;\n",
       "    }\n",
       "</style>\n",
       "<table border=\"1\" class=\"dataframe\">\n",
       "  <thead>\n",
       "    <tr style=\"text-align: right;\">\n",
       "      <th></th>\n",
       "      <th>full_name</th>\n",
       "      <th>first_name</th>\n",
       "      <th>last_name</th>\n",
       "    </tr>\n",
       "  </thead>\n",
       "  <tbody>\n",
       "    <tr>\n",
       "      <th>0</th>\n",
       "      <td>Gabriel Batistuta</td>\n",
       "      <td>Gabriel</td>\n",
       "      <td>Batistuta</td>\n",
       "    </tr>\n",
       "    <tr>\n",
       "      <th>1</th>\n",
       "      <td>Abel Balbo</td>\n",
       "      <td>Abel</td>\n",
       "      <td>Balbo</td>\n",
       "    </tr>\n",
       "    <tr>\n",
       "      <th>2</th>\n",
       "      <td>Luca Toni</td>\n",
       "      <td>Luca</td>\n",
       "      <td>Toni</td>\n",
       "    </tr>\n",
       "    <tr>\n",
       "      <th>3</th>\n",
       "      <td>Roberto Baggio</td>\n",
       "      <td>Roberto</td>\n",
       "      <td>Baggio</td>\n",
       "    </tr>\n",
       "  </tbody>\n",
       "</table>\n",
       "</div>"
      ],
      "text/plain": [
       "           full_name first_name  last_name\n",
       "0  Gabriel Batistuta    Gabriel  Batistuta\n",
       "1         Abel Balbo       Abel      Balbo\n",
       "2          Luca Toni       Luca       Toni\n",
       "3     Roberto Baggio    Roberto     Baggio"
      ]
     },
     "execution_count": 34,
     "metadata": {},
     "output_type": "execute_result"
    }
   ],
   "source": [
    "#The original workbook data,'full_name_list', is stored in table, 'df'\n",
    "\"\"\"\n",
    "Now we need to create a new table, 'df1', to store the new data \n",
    "that contains 3 columns, 'full_name', 'first_name','full_name'\n",
    "\"\"\"\n",
    "df1 = df.copy()\n",
    "\n",
    "# let 'i' be the individual item in column 'full_name'\n",
    "df1['first_name'] = [f\"{i.split(' ')[0]}\" for i in df1['full_name']]\n",
    "df1['last_name'] = [f\"{i.split(' ')[1]}\" for i in df1['full_name']]\n",
    "                    \n",
    "df1"
   ]
  },
  {
   "cell_type": "markdown",
   "metadata": {},
   "source": [
    "# <b>Step 5</b>\n",
    "## - <b>Save the result to a new worksheet,'result', back to the original excel file</b>"
   ]
  },
  {
   "cell_type": "code",
   "execution_count": 45,
   "metadata": {},
   "outputs": [],
   "source": [
    "# you may have a different local drive location (change accordingly)\n",
    "target_location = f\"{data_source}\"\n",
    "\n",
    "#save result to 'target_location' while keeping the original worksheet 'full_name_list'\n",
    "with pd.ExcelWriter(target_location) as writer:\n",
    "    df.to_excel(writer, sheet_name='full_name_list',index=False)\n",
    "    df1.to_excel(writer, sheet_name='result',index=False)\n"
   ]
  },
  {
   "cell_type": "code",
   "execution_count": null,
   "metadata": {},
   "outputs": [],
   "source": []
  }
 ],
 "metadata": {
  "kernelspec": {
   "display_name": "Python 3",
   "language": "python",
   "name": "python3"
  },
  "language_info": {
   "codemirror_mode": {
    "name": "ipython",
    "version": 3
   },
   "file_extension": ".py",
   "mimetype": "text/x-python",
   "name": "python",
   "nbconvert_exporter": "python",
   "pygments_lexer": "ipython3",
   "version": "3.7.2"
  }
 },
 "nbformat": 4,
 "nbformat_minor": 2
}
